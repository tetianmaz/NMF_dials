{
 "cells": [
  {
   "cell_type": "code",
   "execution_count": null,
   "id": "142fb617",
   "metadata": {},
   "outputs": [],
   "source": [
    "!pwd"
   ]
  },
  {
   "cell_type": "markdown",
   "id": "34188f68",
   "metadata": {},
   "source": [
    "## Importing libraries"
   ]
  },
  {
   "cell_type": "code",
   "execution_count": null,
   "id": "f7aeed76",
   "metadata": {},
   "outputs": [],
   "source": [
    "# Setting up DIALS object and importing dqmexplore\n",
    "import sys\n",
    "sys.path.append(\"../DQMExplore/src/\")\n",
    "\n",
    "from utils.setupdials import setup_dials_object_deviceauth\n",
    "dials = setup_dials_object_deviceauth()\n",
    "\n",
    "import dqmexplore as dqme"
   ]
  },
  {
   "cell_type": "code",
   "execution_count": null,
   "id": "58052b4f",
   "metadata": {},
   "outputs": [],
   "source": [
    "# Importing DIALS objects\n",
    "# For more information on DIALS, please visit https://github.com/cms-DQM/dials-py\n",
    "from cmsdials.filters import LumisectionHistogram1DFilters, LumisectionHistogram2DFilters\n",
    "\n",
    "# Importing other essential packages\n",
    "import numpy as np\n",
    "import pandas as pd"
   ]
  },
  {
   "cell_type": "code",
   "execution_count": null,
   "id": "4b0619e6",
   "metadata": {},
   "outputs": [],
   "source": [
    "import cmsdials\n",
    "from cmsdials.filters import OMSFilter, OMSPage"
   ]
  },
  {
   "cell_type": "markdown",
   "id": "ca15c075",
   "metadata": {},
   "source": [
    "## Loading MEs information from the DIALS"
   ]
  },
  {
   "cell_type": "code",
   "execution_count": null,
   "id": "6cdd1b69",
   "metadata": {},
   "outputs": [],
   "source": [
    "mes_list = dials.mes.list(LumisectionHistogram1DFilters())\n",
    "df_me = pd.DataFrame(mes_list)\n",
    "tracking_mes = df_me[df_me.iloc[:, 1].apply(lambda x: 'Tracking' in x[1])]\n",
    "\n",
    "pd.set_option('display.max_colwidth', None)\n",
    "#df_me.iloc[:, 1].tail()\n",
    "tracking_mes"
   ]
  },
  {
   "cell_type": "code",
   "execution_count": null,
   "id": "86920a0b",
   "metadata": {},
   "outputs": [],
   "source": [
    "runnb = 383948\n",
    "runnb_test = 384318\n",
    "me__regex =  \"PixelPhase1/Tracks/PXBarrel/charge_PXLayer_1\" \n",
    "\n",
    "data1D = dials.h1d.list_all(\n",
    "    LumisectionHistogram1DFilters(\n",
    "        run_number = runnb,\n",
    "        dataset__regex = \"ZeroBias\",\n",
    "        me__regex = me__regex\n",
    "    ),\n",
    "    max_pages=200\n",
    ").to_pandas()\n",
    "\n",
    "data1D_test = dials.h1d.list_all(\n",
    "    LumisectionHistogram1DFilters(\n",
    "        run_number = runnb_test,\n",
    "        dataset__regex = \"ZeroBias\",\n",
    "        me__regex = me__regex\n",
    "    ),\n",
    "    max_pages=200\n",
    ").to_pandas()"
   ]
  },
  {
   "cell_type": "code",
   "execution_count": null,
   "id": "d9e251a1",
   "metadata": {},
   "outputs": [],
   "source": [
    "from dqmexplore.dataproc import generate_me_dict\n",
    "\n",
    "data1D_dict = generate_me_dict(data1D)\n",
    "data1D_dict_test = generate_me_dict(data1D_test)\n",
    "print(data1D_dict_test['PixelPhase1/Tracks/PXBarrel/charge_PXLayer_1']['data'])"
   ]
  },
  {
   "cell_type": "markdown",
   "id": "037099f5",
   "metadata": {},
   "source": [
    "__https://tinyurl.com/2nj77jbs__ From RR (Not in use right now)"
   ]
  },
  {
   "cell_type": "code",
   "execution_count": null,
   "id": "dd4e7c24",
   "metadata": {},
   "outputs": [],
   "source": [
    "import matplotlib.pyplot as plt\n",
    "\n",
    "data = data1D['data'].iloc[27:30]\n",
    "\n",
    "fig, axes = plt.subplots(1, 3, figsize=(18, 6))\n",
    "\n",
    "x_min = 0\n",
    "x_max = 80000\n",
    "x_bin = 100\n",
    "bin_edges = np.linspace(x_min, x_max, x_bin + 1)\n",
    "\n",
    "for i, (ax, (ls_number, charge)) in enumerate(zip(axes, data.items())):\n",
    "    ax.stairs(charge, bin_edges, label=f'LS {ls_number+1}', color='b')\n",
    "    ax.set_title('charge_PXLayer_1 LS {}'.format(ls_number+1))\n",
    "    ax.set_xlabel('Charge')\n",
    "    ax.set_ylabel('Count')\n",
    "    ax.legend()\n",
    "plt.show()\n"
   ]
  },
  {
   "cell_type": "code",
   "execution_count": null,
   "id": "a33d5951",
   "metadata": {},
   "outputs": [],
   "source": [
    "from dqmexplore.dataproc import trig_normalize\n",
    "from dqmexplore.omsutils import get_rate\n",
    "\n",
    "trig_rate = get_rate(dials, runnb, \"ZeroBias\")\n",
    "# rtrn_np=True\n",
    "trig_rate_test = get_rate(dials, runnb_test, \"ZeroBias\")\n",
    "data1D_norm = trig_normalize(data1D_dict, trig_rate[:-2])\n",
    "data1D_norm_test = trig_normalize(data1D_dict_test, trig_rate_test)"
   ]
  },
  {
   "cell_type": "code",
   "execution_count": null,
   "id": "b86e3420",
   "metadata": {},
   "outputs": [],
   "source": [
    "df_trig = pd.DataFrame(data1D_norm['PixelPhase1/Tracks/PXBarrel/charge_PXLayer_1'][\"data\"])\n",
    "rows_as_lists = df_trig.apply(lambda row: row.tolist(), axis=1)\n",
    "\n",
    "df_trig_test = pd.DataFrame(data1D_norm_test['PixelPhase1/Tracks/PXBarrel/charge_PXLayer_1'][\"data\"])\n",
    "rows_as_lists_test = df_trig_test.apply(lambda row: row.tolist(), axis=1)\n",
    "\n",
    "df_after_trig = pd.DataFrame({'data': rows_as_lists})\n",
    "df_after_trig_test = pd.DataFrame({'data': rows_as_lists_test})\n",
    "#df_after_trig.iloc[40:45]\n",
    "#print(type(df_after_trig.loc[1724]))\n",
    "#df_after_trig.iloc[20:30]"
   ]
  },
  {
   "cell_type": "code",
   "execution_count": null,
   "id": "ec267011",
   "metadata": {},
   "outputs": [],
   "source": [
    "data = data1D['data'].iloc[27:30]\n",
    "df_after_trig_plot = df_after_trig['data'].iloc[27:30]\n",
    "\n",
    "ls_indices = data.index \n",
    "\n",
    "fig, axes = plt.subplots(2, 3, figsize=(18, 12)) \n",
    "\n",
    "# Plot the first row: data vs df_after_trig_plot\n",
    "for i in range(3):\n",
    "    ls_number = ls_indices[i]  \n",
    "    axes[0, i].plot(data.iloc[i], marker='o', linestyle='-', color='g', label=f'data LS {ls_number}')\n",
    "    axes[0, i].plot(df_after_trig_plot.iloc[i], marker='o', linestyle='-', color='b', label=f'df_after_trig_plot LS {ls_number}')\n",
    "    \n",
    "    axes[0, i].set_title(f'LS {ls_number}')  \n",
    "    axes[0, i].set_xlabel('Charge')\n",
    "    axes[0, i].set_ylabel('Count')\n",
    "    axes[0, i].legend()\n",
    "\n",
    "# Plot the second row: only df_after_trig_plot\n",
    "for i in range(3):\n",
    "    ls_number = ls_indices[i] \n",
    "    axes[1, i].plot(df_after_trig_plot.iloc[i], marker='o', linestyle='-', color='b', label=f'df_after_trig_plot LS {ls_number}')\n",
    "    \n",
    "    axes[1, i].set_title(f'df_after_trig_plot LS {ls_number}')\n",
    "    axes[1, i].set_xlabel('Charge')\n",
    "    axes[1, i].set_ylabel('Count')\n",
    "    axes[1, i].legend()\n",
    "\n",
    "plt.tight_layout()\n",
    "plt.show()\n"
   ]
  },
  {
   "cell_type": "code",
   "execution_count": null,
   "id": "25cc0878",
   "metadata": {},
   "outputs": [],
   "source": [
    "import math\n",
    "\n",
    "def contains_only_zeros_nan_or_inf(lst):\n",
    "    return all(x == 0 for x in lst) or any(math.isnan(x) for x in lst) or any(math.isinf(x) for x in lst)\n",
    "\n",
    "\n",
    "# Filter 'data' lists from zero lists\n",
    "df_filtered = df_after_trig[~df_after_trig['data'].apply(contains_only_zeros_nan_or_inf)]\n",
    "\n",
    "df_filtered_test = df_after_trig_test[~df_after_trig_test['data'].apply(contains_only_zeros_nan_or_inf)]\n",
    "\n",
    "#df_filtered.head(1)"
   ]
  },
  {
   "cell_type": "code",
   "execution_count": null,
   "id": "e4902d84",
   "metadata": {},
   "outputs": [],
   "source": [
    "data_lists = df_filtered['data'].tolist()\n",
    "data_lists_test = df_filtered_test['data'].tolist()"
   ]
  },
  {
   "cell_type": "code",
   "execution_count": null,
   "id": "1718400a",
   "metadata": {},
   "outputs": [],
   "source": [
    "from sklearn.decomposition import NMF\n",
    "\n",
    "dense_matrix = np.array(data_lists)\n",
    "dense_matrix_test = np.array(data_lists_test)\n",
    "\n",
    "# Initialize and fit the NMF model\n",
    "model = NMF(n_components=4, init='random', random_state=10, verbose = True)\n",
    "W = model.fit_transform(dense_matrix)\n",
    "H = model.components_\n",
    "\n",
    "# Reconstructed trained data\n",
    "reconstructed_matrix_train = np.dot(W, H)\n",
    "\n",
    "# Transformation of the test data\n",
    "W_test = model.transform(dense_matrix_test)\n",
    "\n",
    "# Reconstruction of the test data\n",
    "reconstructed_matrix_test = np.dot(W_test, H)\n",
    "\n",
    "print(\"\\nW (Basis Matrix for Training Data):\")\n",
    "print(W)\n",
    "\n",
    "print(\"\\nH (Coefficient Matrix for Training Data):\")\n",
    "print(H)\n",
    "\n",
    "print(\"\\nReconstructed Training Matrix:\")\n",
    "print(reconstructed_matrix_train)\n",
    "\n",
    "print(\"\\nOriginal Test Matrix (Dense):\")\n",
    "print(dense_matrix_test)\n",
    "\n",
    "print(\"\\nW_test (Basis Matrix for Test Data):\")\n",
    "print(W_test)\n",
    "\n",
    "print(\"\\nReconstructed Test Matrix:\")\n",
    "print(reconstructed_matrix_test)"
   ]
  },
  {
   "cell_type": "code",
   "execution_count": null,
   "id": "e76a2b00",
   "metadata": {},
   "outputs": [],
   "source": [
    "from sklearn.metrics import mean_squared_error\n",
    "\n",
    "# Calculate error for training data\n",
    "train_error = mean_squared_error(dense_matrix, reconstructed_matrix_train)\n",
    "\n",
    "# Calculate error for test data\n",
    "test_error = mean_squared_error(dense_matrix_test, reconstructed_matrix_test)\n",
    "\n",
    "print(f'Training Error: {train_error}')\n",
    "print(f'Test Error: {test_error}')"
   ]
  },
  {
   "cell_type": "code",
   "execution_count": null,
   "id": "d8c6b32d",
   "metadata": {},
   "outputs": [],
   "source": [
    "sample_idx = 0  \n",
    "\n",
    "plt.figure(figsize=(12, 7))\n",
    "plt.stairs(dense_matrix[sample_idx], label='Input train', color=\"g\")\n",
    "\n",
    "# Reconstructed data from W * H for each component\n",
    "reconstructed_sample = np.dot(W[sample_idx, :], H)\n",
    "\n",
    "# Individual components and the reconstruction\n",
    "for i in range(H.shape[0]):\n",
    "    # Component contribution to the input\n",
    "    component_contribution = W[sample_idx, i] * H[i]\n",
    "    plt.stairs(component_contribution, label=f'Component {i+1}')\n",
    "\n",
    "plt.stairs(reconstructed_sample, label='Reconstructed train', linestyle='--', color='r')\n",
    "\n",
    "plt.legend()\n",
    "plt.title(f\"Reconstruction of Training Data\")\n",
    "\n",
    "plt.show()\n"
   ]
  },
  {
   "cell_type": "code",
   "execution_count": null,
   "id": "373b0131",
   "metadata": {},
   "outputs": [],
   "source": [
    "# Compare original and reconstructed data for training\n",
    "plt.figure(figsize=(12, 7))\n",
    "plt.stairs(dense_matrix[0], label='Input train')\n",
    "plt.stairs(reconstructed_matrix_train[0], label='Reconstruction train')\n",
    "plt.legend()\n",
    "plt.show()\n"
   ]
  },
  {
   "cell_type": "code",
   "execution_count": null,
   "id": "01726dac",
   "metadata": {},
   "outputs": [],
   "source": [
    "sample_idx = 0  \n",
    "\n",
    "plt.figure(figsize=(12, 7))\n",
    "plt.stairs(dense_matrix_test[sample_idx], label='Input test', color=\"g\")\n",
    "\n",
    "# Reconstructed data from W * H for each component\n",
    "reconstructed_sample_test = np.dot(W_test[sample_idx, :], H)\n",
    "\n",
    "# Individual components and the reconstruction\n",
    "for i in range(H.shape[0]):\n",
    "    # Component contribution to the input\n",
    "    component_contribution_test = W_test[sample_idx, i] * H[i]\n",
    "    plt.stairs(component_contribution_test, label=f'Component {i+1}')\n",
    "\n",
    "plt.stairs(reconstructed_sample_test, label='Reconstructed test', linestyle='--', color='r')\n",
    "\n",
    "plt.legend()\n",
    "plt.title(f\"Reconstruction of Testing Data\")\n",
    "\n",
    "plt.show()"
   ]
  },
  {
   "cell_type": "code",
   "execution_count": null,
   "id": "83e79a48",
   "metadata": {},
   "outputs": [],
   "source": [
    "plt.figure(figsize=(12, 7))\n",
    "plt.stairs(dense_matrix_test[0], label='Input test')\n",
    "plt.stairs(reconstructed_matrix_test[0], label='Reconstruction test')\n",
    "plt.legend()\n",
    "plt.show()"
   ]
  },
  {
   "cell_type": "code",
   "execution_count": null,
   "id": "5d62497d",
   "metadata": {},
   "outputs": [],
   "source": [
    "df_reco_1 = pd.DataFrame(reconstructed_matrix_train)\n",
    "data1D_reco = pd.DataFrame({'data': df_reco_1.values.tolist()})\n",
    "df_reco_1_test = pd.DataFrame(reconstructed_matrix_test)\n",
    "data1D_reco_test = pd.DataFrame({'data': df_reco_1_test.values.tolist()})"
   ]
  },
  {
   "cell_type": "code",
   "execution_count": null,
   "id": "4fa50f52",
   "metadata": {},
   "outputs": [],
   "source": [
    "data1D_reco_plot = data1D_reco['data'].iloc[:3]\n",
    "df_filtered_plot = df_filtered['data'].iloc[:3]\n",
    "ls_indices = df_filtered.index[:3]\n",
    "\n",
    "x_min = 0\n",
    "x_max = 80000\n",
    "x_bin = 100\n",
    "bin_edges = np.linspace(x_min, x_max, x_bin + 1)\n",
    "\n",
    "fig, axes = plt.subplots(1, 3, figsize=(18, 6))\n",
    "\n",
    "for i in range(3):\n",
    "    ls_number = ls_indices[i]\n",
    "    \n",
    "    axes[i].stairs(df_filtered_plot.iloc[i], bin_edges, color='g', label=f'df_filtered_plot LS {ls_number+1}')\n",
    "    \n",
    "    axes[i].stairs(data1D_reco_plot.iloc[i], bin_edges, color='b', label=f'data1D_reco_plot LS {ls_number+1}')\n",
    "    \n",
    "    axes[i].set_title(f'LS {ls_number+1}')\n",
    "    axes[i].set_xlabel('Charge')\n",
    "    axes[i].set_ylabel('Count')\n",
    "    \n",
    "    axes[i].legend()\n",
    "\n",
    "plt.tight_layout()\n",
    "plt.show()\n"
   ]
  },
  {
   "cell_type": "code",
   "execution_count": null,
   "id": "db7b01f5",
   "metadata": {},
   "outputs": [],
   "source": [
    "data1D_reco_plot_test = data1D_reco_test['data'].iloc[:3]\n",
    "df_filtered_plot_test = df_filtered_test['data'].iloc[:3]\n",
    "ls_indices_test = df_filtered_test.index[:3] \n",
    "\n",
    "x_min = 0\n",
    "x_max = 80000\n",
    "x_bin = 100\n",
    "bin_edges = np.linspace(x_min, x_max, x_bin + 1)  \n",
    "\n",
    "fig, axes = plt.subplots(1, 3, figsize=(18, 6))\n",
    "\n",
    "for i in range(3):\n",
    "    ls_number = ls_indices_test[i]  \n",
    "    \n",
    "    axes[i].stairs(df_filtered_plot_test.iloc[i], bin_edges, color='g', label=f'df_filtered_plot LS {ls_number+1}')\n",
    "    \n",
    "    axes[i].stairs(data1D_reco_plot_test.iloc[i], bin_edges, color='b', label=f'data1D_reco_plot LS {ls_number+1}')\n",
    "    \n",
    "    axes[i].set_title(f'LS {ls_number+1}')\n",
    "    axes[i].set_xlabel('Charge')\n",
    "    axes[i].set_ylabel('Count')\n",
    "    \n",
    "    axes[i].legend()\n",
    "\n",
    "plt.tight_layout()\n",
    "plt.show()\n"
   ]
  },
  {
   "cell_type": "code",
   "execution_count": null,
   "id": "acfade34",
   "metadata": {},
   "outputs": [],
   "source": []
  }
 ],
 "metadata": {
  "@webio": {
   "lastCommId": null,
   "lastKernelId": null
  },
  "kernelspec": {
   "display_name": "Python 3",
   "language": "python",
   "name": "python3"
  },
  "language_info": {
   "codemirror_mode": {
    "name": "ipython",
    "version": 3
   },
   "file_extension": ".py",
   "mimetype": "text/x-python",
   "name": "python",
   "nbconvert_exporter": "python",
   "pygments_lexer": "ipython3",
   "version": "3.9.12"
  }
 },
 "nbformat": 4,
 "nbformat_minor": 5
}
